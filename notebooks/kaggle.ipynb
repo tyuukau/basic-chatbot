{
  "cells": [
    {
      "cell_type": "markdown",
      "metadata": {
        "id": "uhX5SvQdNfWU"
      },
      "source": [
        "# Preparation"
      ]
    },
    {
      "cell_type": "markdown",
      "metadata": {
        "id": "FK2qr25qNcXM"
      },
      "source": [
        "## Virtual environment"
      ]
    },
    {
      "cell_type": "code",
      "execution_count": null,
      "metadata": {
        "id": "5KfWqjlD00bZ"
      },
      "outputs": [],
      "source": [
        "!apt install python3.10-venv"
      ]
    },
    {
      "cell_type": "code",
      "execution_count": null,
      "metadata": {
        "id": "UF_r9Etr0B18"
      },
      "outputs": [],
      "source": [
        "!pip3 install virtualenv\n",
        "!virtualenv env\n",
        "!source /content/env/bin/activate"
      ]
    },
    {
      "cell_type": "markdown",
      "metadata": {
        "id": "4-ygrpMQNrQ3"
      },
      "source": [
        "## Clone the project"
      ]
    },
    {
      "cell_type": "code",
      "execution_count": null,
      "metadata": {
        "id": "bAWdLZPd0i85"
      },
      "outputs": [],
      "source": [
        "%cd /content"
      ]
    },
    {
      "cell_type": "code",
      "execution_count": null,
      "metadata": {
        "id": "bQlZrP4UPjuN"
      },
      "outputs": [],
      "source": [
        "!rm -r basic-chatbot"
      ]
    },
    {
      "cell_type": "code",
      "execution_count": null,
      "metadata": {
        "id": "33SWCOvv0_HQ"
      },
      "outputs": [],
      "source": [
        "!git clone https://github.com/tyuukau/basic-chatbot.git"
      ]
    },
    {
      "cell_type": "code",
      "execution_count": null,
      "metadata": {
        "id": "AcqFxuc21E3v"
      },
      "outputs": [],
      "source": [
        "%cd basic-chatbot"
      ]
    },
    {
      "cell_type": "code",
      "execution_count": null,
      "metadata": {
        "id": "lX4V7grm1LSK"
      },
      "outputs": [],
      "source": [
        "!pip install -r requirements.txt"
      ]
    },
    {
      "cell_type": "markdown",
      "metadata": {
        "id": "G9Q_6GTlV6B7"
      },
      "source": [
        "## Connect to ngrok"
      ]
    },
    {
      "cell_type": "code",
      "execution_count": null,
      "metadata": {
        "id": "DenN4WTiVbN8"
      },
      "outputs": [],
      "source": [
        "!pip install pyngrok\n",
        "from pyngrok import ngrok\n",
        "\n",
        "ngrok.set_auth_token(\"<your_auth_token>\")"
      ]
    },
    {
      "cell_type": "code",
      "execution_count": null,
      "metadata": {
        "id": "8Qie8eUvP1rq"
      },
      "outputs": [],
      "source": [
        "port = 8000\n",
        "# Open a ngrok tunnel to the HTTP server\n",
        "public_url = ngrok.connect(port).public_url\n",
        "print(f\" * ngrok tunnel \\\"{public_url}\\\" -> \\\"http://127.0.0.1:{port}\\\"\")\n"
      ]
    },
    {
      "cell_type": "markdown",
      "metadata": {
        "id": "WP0YHk6wV6_T"
      },
      "source": [
        "# Run"
      ]
    },
    {
      "cell_type": "code",
      "execution_count": null,
      "metadata": {
        "id": "rcMRGY3zQrfW"
      },
      "outputs": [],
      "source": [
        "!chainlit run app.py"
      ]
    },
    {
      "cell_type": "markdown",
      "metadata": {
        "id": "mqiX6MPpWCQt"
      },
      "source": [
        "Please wait for the app to finish initialisation, only then do you click the public link above."
      ]
    }
  ],
  "metadata": {
    "accelerator": "GPU",
    "colab": {
      "gpuType": "T4",
      "provenance": []
    },
    "kernelspec": {
      "display_name": "Python 3",
      "name": "python3"
    },
    "language_info": {
      "name": "python"
    }
  },
  "nbformat": 4,
  "nbformat_minor": 0
}
